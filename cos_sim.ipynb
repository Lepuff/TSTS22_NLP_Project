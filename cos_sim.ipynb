{
 "cells": [
  {
   "cell_type": "code",
   "execution_count": 1,
   "metadata": {},
   "outputs": [
    {
     "name": "stderr",
     "output_type": "stream",
     "text": [
      "c:\\Users\\emilk\\miniconda3\\envs\\tf-gpu\\lib\\site-packages\\tqdm\\auto.py:22: TqdmWarning: IProgress not found. Please update jupyter and ipywidgets. See https://ipywidgets.readthedocs.io/en/stable/user_install.html\n",
      "  from .autonotebook import tqdm as notebook_tqdm\n",
      "c:\\Users\\emilk\\miniconda3\\envs\\tf-gpu\\lib\\site-packages\\scipy\\sparse\\sparsetools.py:21: DeprecationWarning: `scipy.sparse.sparsetools` is deprecated!\n",
      "scipy.sparse.sparsetools is a private module for scipy.sparse, and should not be used.\n",
      "  _deprecated()\n"
     ]
    }
   ],
   "source": [
    "import pandas as pd\n",
    "import spacy\n",
    "import numpy as np\n",
    "import pyLDAvis.gensim_models\n",
    "from gensim.models import LdaMulticore\n",
    "from gensim.models import CoherenceModel\n",
    "from gensim.corpora.dictionary import Dictionary\n",
    "from bs4 import BeautifulSoup\n"
   ]
  },
  {
   "cell_type": "code",
   "execution_count": 2,
   "metadata": {},
   "outputs": [
    {
     "data": {
      "text/html": [
       "<div>\n",
       "<style scoped>\n",
       "    .dataframe tbody tr th:only-of-type {\n",
       "        vertical-align: middle;\n",
       "    }\n",
       "\n",
       "    .dataframe tbody tr th {\n",
       "        vertical-align: top;\n",
       "    }\n",
       "\n",
       "    .dataframe thead th {\n",
       "        text-align: right;\n",
       "    }\n",
       "</style>\n",
       "<table border=\"1\" class=\"dataframe\">\n",
       "  <thead>\n",
       "    <tr style=\"text-align: right;\">\n",
       "      <th></th>\n",
       "      <th>ID</th>\n",
       "      <th>Title</th>\n",
       "      <th>Text</th>\n",
       "    </tr>\n",
       "  </thead>\n",
       "  <tbody>\n",
       "    <tr>\n",
       "      <th>0</th>\n",
       "      <td>2</td>\n",
       "      <td>Aktiespararna säger ja till Gunvorbudet&lt;span&gt; ...</td>\n",
       "      <td>Aktiespararna rekommenderar sina medlemmar att...</td>\n",
       "    </tr>\n",
       "    <tr>\n",
       "      <th>2</th>\n",
       "      <td>7</td>\n",
       "      <td>Man fast i en timme i grop&lt;span&gt; - kuriren.nu&lt;...</td>\n",
       "      <td>En man i 60-årsåldern föll ner i en grop som v...</td>\n",
       "    </tr>\n",
       "    <tr>\n",
       "      <th>3</th>\n",
       "      <td>8</td>\n",
       "      <td>Mannen fastnade i en grop  i flera timmar&lt;spa...</td>\n",
       "      <td>En man i 60-årsåldern trillade ner i ett grävt...</td>\n",
       "    </tr>\n",
       "    <tr>\n",
       "      <th>4</th>\n",
       "      <td>56</td>\n",
       "      <td>En motorcykel</td>\n",
       "      <td>Här är den längre versionen.</td>\n",
       "    </tr>\n",
       "    <tr>\n",
       "      <th>5</th>\n",
       "      <td>66</td>\n",
       "      <td>Stulna braskaminer för 50 000 ska värma</td>\n",
       "      <td>Det börjar bli vinter och kallt. Då är det skö...</td>\n",
       "    </tr>\n",
       "  </tbody>\n",
       "</table>\n",
       "</div>"
      ],
      "text/plain": [
       "   ID                                              Title  \\\n",
       "0   2  Aktiespararna säger ja till Gunvorbudet<span> ...   \n",
       "2   7  Man fast i en timme i grop<span> - kuriren.nu<...   \n",
       "3   8  Mannen fastnade i en grop  i flera timmar<spa...   \n",
       "4  56                                      En motorcykel   \n",
       "5  66            Stulna braskaminer för 50 000 ska värma   \n",
       "\n",
       "                                                Text  \n",
       "0  Aktiespararna rekommenderar sina medlemmar att...  \n",
       "2  En man i 60-årsåldern föll ner i en grop som v...  \n",
       "3  En man i 60-årsåldern trillade ner i ett grävt...  \n",
       "4                       Här är den längre versionen.  \n",
       "5  Det börjar bli vinter och kallt. Då är det skö...  "
      ]
     },
     "execution_count": 2,
     "metadata": {},
     "output_type": "execute_result"
    }
   ],
   "source": [
    "df_articles = pd.read_csv('sävsjö_articles.csv')\n",
    "df_articles.head()\n",
    "df_articles = df_articles.dropna()\n",
    "df_articles.head()"
   ]
  },
  {
   "cell_type": "code",
   "execution_count": 3,
   "metadata": {},
   "outputs": [
    {
     "name": "stderr",
     "output_type": "stream",
     "text": [
      "c:\\Users\\emilk\\miniconda3\\envs\\tf-gpu\\lib\\site-packages\\bs4\\__init__.py:435: MarkupResemblesLocatorWarning: The input looks more like a filename than markup. You may want to open this file and pass the filehandle into Beautiful Soup.\n",
      "  warnings.warn(\n"
     ]
    }
   ],
   "source": [
    "for col in df_articles.columns[1:]:\n",
    "    df_articles[col] = df_articles[col].astype(str)\n",
    "    df_articles[col] = df_articles[col].apply(lambda x: BeautifulSoup(x).get_text())\n",
    "df_articles = df_articles.replace(r'[^\\w\\s]|_', '', regex=True)"
   ]
  },
  {
   "cell_type": "code",
   "execution_count": 4,
   "metadata": {},
   "outputs": [],
   "source": [
    "title_list = []\n",
    "df_copy = df_articles.copy()\n",
    "\n",
    "for i in df_copy['Title']:\n",
    "    title_list.append(i)\n"
   ]
  },
  {
   "cell_type": "code",
   "execution_count": 5,
   "metadata": {},
   "outputs": [],
   "source": [
    "\n",
    "def cosine_similarity(list_of_strings):\n",
    "    nlp = spacy.load(\"sv_core_news_lg\")\n",
    "    search_term = input()\n",
    "    similarity_score = []    \n",
    "    search_vector = nlp(search_term).vector # Vectorize search term\n",
    "    \n",
    "    for s in list_of_strings:\n",
    "        list_vector = nlp(s).vector\n",
    "        cos_similarity = np.dot(search_vector, list_vector) / (np.linalg.norm(search_vector) * np.linalg.norm(list_vector))\n",
    "        similarity_score.append(cos_similarity)\n",
    "        \n",
    "    most_similar = list_of_strings[similarity_score.index(max(similarity_score))] # most similar\n",
    "    print(\"\\nMost Similar Title:\\n\",most_similar) \n",
    "\n",
    "    top_index=list(np.argsort(similarity_score)[-20:]) # top 20 most similiar\n",
    "    top_index.reverse()\n",
    "\n",
    "    print(\"\\nMost Similar Titles:\\n\")\n",
    "    for i in top_index:\n",
    "        print(list_of_strings[i])\n",
    "\n",
    "    return most_similar\n"
   ]
  },
  {
   "cell_type": "code",
   "execution_count": 7,
   "metadata": {},
   "outputs": [
    {
     "name": "stdout",
     "output_type": "stream",
     "text": [
      "\n",
      "Most Similar Title:\n",
      " Omfattande brand vid Vrigstad\n",
      "\n",
      "Most Similar Titles:\n",
      "\n",
      "Omfattande brand vid Vrigstad\n",
      "Trafikolycka utanför Vrigstad\n",
      "Bilbrand\n",
      "Våldsam skogsbrand utanför Korsberga\n",
      "Singelolycka utanför Vrigstad\n",
      "Röklukt ingen brand\n",
      "Terrängbrand utanför Stockaryd\n",
      "Mopedbrand\n",
      "Pizzeria och gatukök utsatta för brand\n",
      "Stor brand på Västra Järnvägsgatan\n",
      "Halkolycka mellan Stockaryd och Vrigstad\n",
      "UPPDATERAT Drunkningsolycka utanför Stockaryd\n",
      "Singelolycka utanför Stockaryd\n",
      "Uppdatering Brand Kvillsfors\n",
      "Skogsbrand\n",
      "Stor brand vid Nyhemsskolan i Nässjö Kraftig rökutveckling\n",
      "Brand med esplosionsrisk utanför Landsbro\n",
      "Anlagd brand på Aleholm\n",
      "Smitning från trafikolycka\n",
      "SOS Singelolycka mellan Vrigstad och Stockaryd\n"
     ]
    }
   ],
   "source": [
    "\n",
    "most_sim = cosine_similarity(title_list)"
   ]
  }
 ],
 "metadata": {
  "kernelspec": {
   "display_name": "Python 3.9.11 ('tf-gpu')",
   "language": "python",
   "name": "python3"
  },
  "language_info": {
   "codemirror_mode": {
    "name": "ipython",
    "version": 3
   },
   "file_extension": ".py",
   "mimetype": "text/x-python",
   "name": "python",
   "nbconvert_exporter": "python",
   "pygments_lexer": "ipython3",
   "version": "3.9.11"
  },
  "orig_nbformat": 4,
  "vscode": {
   "interpreter": {
    "hash": "d586eaf64391e1ecb71184628a46c5e7e4029dd798c901a4db62bfc507a13580"
   }
  }
 },
 "nbformat": 4,
 "nbformat_minor": 2
}
